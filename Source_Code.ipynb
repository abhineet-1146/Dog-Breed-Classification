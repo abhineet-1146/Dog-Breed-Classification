{
  "nbformat": 4,
  "nbformat_minor": 0,
  "metadata": {
    "colab": {
      "provenance": []
    },
    "kernelspec": {
      "name": "python3",
      "display_name": "Python 3"
    },
    "language_info": {
      "name": "python"
    },
    "accelerator": "GPU",
    "gpuClass": "standard",
    "widgets": {
      "application/vnd.jupyter.widget-state+json": {
        "35e2227544b94f7d8ebe00855b7a9924": {
          "model_module": "@jupyter-widgets/controls",
          "model_name": "HBoxModel",
          "model_module_version": "1.5.0",
          "state": {
            "_dom_classes": [],
            "_model_module": "@jupyter-widgets/controls",
            "_model_module_version": "1.5.0",
            "_model_name": "HBoxModel",
            "_view_count": null,
            "_view_module": "@jupyter-widgets/controls",
            "_view_module_version": "1.5.0",
            "_view_name": "HBoxView",
            "box_style": "",
            "children": [
              "IPY_MODEL_a36f24dc4de9422094fd4eefb2e26f46",
              "IPY_MODEL_45fb230b3f7f436aa31d5c71b1c00834",
              "IPY_MODEL_fec29caf7e1244c89ac89f51db398600"
            ],
            "layout": "IPY_MODEL_c02d3cb9f93b4fae800d604dda6188d7"
          }
        },
        "a36f24dc4de9422094fd4eefb2e26f46": {
          "model_module": "@jupyter-widgets/controls",
          "model_name": "HTMLModel",
          "model_module_version": "1.5.0",
          "state": {
            "_dom_classes": [],
            "_model_module": "@jupyter-widgets/controls",
            "_model_module_version": "1.5.0",
            "_model_name": "HTMLModel",
            "_view_count": null,
            "_view_module": "@jupyter-widgets/controls",
            "_view_module_version": "1.5.0",
            "_view_name": "HTMLView",
            "description": "",
            "description_tooltip": null,
            "layout": "IPY_MODEL_9ab9854936cc4836a55a3722d86dc851",
            "placeholder": "​",
            "style": "IPY_MODEL_f42b06cd6c3f4aaa9acca8157c601108",
            "value": "100%"
          }
        },
        "45fb230b3f7f436aa31d5c71b1c00834": {
          "model_module": "@jupyter-widgets/controls",
          "model_name": "FloatProgressModel",
          "model_module_version": "1.5.0",
          "state": {
            "_dom_classes": [],
            "_model_module": "@jupyter-widgets/controls",
            "_model_module_version": "1.5.0",
            "_model_name": "FloatProgressModel",
            "_view_count": null,
            "_view_module": "@jupyter-widgets/controls",
            "_view_module_version": "1.5.0",
            "_view_name": "ProgressView",
            "bar_style": "success",
            "description": "",
            "description_tooltip": null,
            "layout": "IPY_MODEL_1e43afb4cf2b41fa8aa8435e3e65b742",
            "max": 553433881,
            "min": 0,
            "orientation": "horizontal",
            "style": "IPY_MODEL_dc2592befe624a09a110fe2c5ab4525a",
            "value": 553433881
          }
        },
        "fec29caf7e1244c89ac89f51db398600": {
          "model_module": "@jupyter-widgets/controls",
          "model_name": "HTMLModel",
          "model_module_version": "1.5.0",
          "state": {
            "_dom_classes": [],
            "_model_module": "@jupyter-widgets/controls",
            "_model_module_version": "1.5.0",
            "_model_name": "HTMLModel",
            "_view_count": null,
            "_view_module": "@jupyter-widgets/controls",
            "_view_module_version": "1.5.0",
            "_view_name": "HTMLView",
            "description": "",
            "description_tooltip": null,
            "layout": "IPY_MODEL_8f37392b928a43c5a6d623f2aa89838c",
            "placeholder": "​",
            "style": "IPY_MODEL_c4443dc8934f42a3aa3c77ac32af470e",
            "value": " 528M/528M [00:02&lt;00:00, 221MB/s]"
          }
        },
        "c02d3cb9f93b4fae800d604dda6188d7": {
          "model_module": "@jupyter-widgets/base",
          "model_name": "LayoutModel",
          "model_module_version": "1.2.0",
          "state": {
            "_model_module": "@jupyter-widgets/base",
            "_model_module_version": "1.2.0",
            "_model_name": "LayoutModel",
            "_view_count": null,
            "_view_module": "@jupyter-widgets/base",
            "_view_module_version": "1.2.0",
            "_view_name": "LayoutView",
            "align_content": null,
            "align_items": null,
            "align_self": null,
            "border": null,
            "bottom": null,
            "display": null,
            "flex": null,
            "flex_flow": null,
            "grid_area": null,
            "grid_auto_columns": null,
            "grid_auto_flow": null,
            "grid_auto_rows": null,
            "grid_column": null,
            "grid_gap": null,
            "grid_row": null,
            "grid_template_areas": null,
            "grid_template_columns": null,
            "grid_template_rows": null,
            "height": null,
            "justify_content": null,
            "justify_items": null,
            "left": null,
            "margin": null,
            "max_height": null,
            "max_width": null,
            "min_height": null,
            "min_width": null,
            "object_fit": null,
            "object_position": null,
            "order": null,
            "overflow": null,
            "overflow_x": null,
            "overflow_y": null,
            "padding": null,
            "right": null,
            "top": null,
            "visibility": null,
            "width": null
          }
        },
        "9ab9854936cc4836a55a3722d86dc851": {
          "model_module": "@jupyter-widgets/base",
          "model_name": "LayoutModel",
          "model_module_version": "1.2.0",
          "state": {
            "_model_module": "@jupyter-widgets/base",
            "_model_module_version": "1.2.0",
            "_model_name": "LayoutModel",
            "_view_count": null,
            "_view_module": "@jupyter-widgets/base",
            "_view_module_version": "1.2.0",
            "_view_name": "LayoutView",
            "align_content": null,
            "align_items": null,
            "align_self": null,
            "border": null,
            "bottom": null,
            "display": null,
            "flex": null,
            "flex_flow": null,
            "grid_area": null,
            "grid_auto_columns": null,
            "grid_auto_flow": null,
            "grid_auto_rows": null,
            "grid_column": null,
            "grid_gap": null,
            "grid_row": null,
            "grid_template_areas": null,
            "grid_template_columns": null,
            "grid_template_rows": null,
            "height": null,
            "justify_content": null,
            "justify_items": null,
            "left": null,
            "margin": null,
            "max_height": null,
            "max_width": null,
            "min_height": null,
            "min_width": null,
            "object_fit": null,
            "object_position": null,
            "order": null,
            "overflow": null,
            "overflow_x": null,
            "overflow_y": null,
            "padding": null,
            "right": null,
            "top": null,
            "visibility": null,
            "width": null
          }
        },
        "f42b06cd6c3f4aaa9acca8157c601108": {
          "model_module": "@jupyter-widgets/controls",
          "model_name": "DescriptionStyleModel",
          "model_module_version": "1.5.0",
          "state": {
            "_model_module": "@jupyter-widgets/controls",
            "_model_module_version": "1.5.0",
            "_model_name": "DescriptionStyleModel",
            "_view_count": null,
            "_view_module": "@jupyter-widgets/base",
            "_view_module_version": "1.2.0",
            "_view_name": "StyleView",
            "description_width": ""
          }
        },
        "1e43afb4cf2b41fa8aa8435e3e65b742": {
          "model_module": "@jupyter-widgets/base",
          "model_name": "LayoutModel",
          "model_module_version": "1.2.0",
          "state": {
            "_model_module": "@jupyter-widgets/base",
            "_model_module_version": "1.2.0",
            "_model_name": "LayoutModel",
            "_view_count": null,
            "_view_module": "@jupyter-widgets/base",
            "_view_module_version": "1.2.0",
            "_view_name": "LayoutView",
            "align_content": null,
            "align_items": null,
            "align_self": null,
            "border": null,
            "bottom": null,
            "display": null,
            "flex": null,
            "flex_flow": null,
            "grid_area": null,
            "grid_auto_columns": null,
            "grid_auto_flow": null,
            "grid_auto_rows": null,
            "grid_column": null,
            "grid_gap": null,
            "grid_row": null,
            "grid_template_areas": null,
            "grid_template_columns": null,
            "grid_template_rows": null,
            "height": null,
            "justify_content": null,
            "justify_items": null,
            "left": null,
            "margin": null,
            "max_height": null,
            "max_width": null,
            "min_height": null,
            "min_width": null,
            "object_fit": null,
            "object_position": null,
            "order": null,
            "overflow": null,
            "overflow_x": null,
            "overflow_y": null,
            "padding": null,
            "right": null,
            "top": null,
            "visibility": null,
            "width": null
          }
        },
        "dc2592befe624a09a110fe2c5ab4525a": {
          "model_module": "@jupyter-widgets/controls",
          "model_name": "ProgressStyleModel",
          "model_module_version": "1.5.0",
          "state": {
            "_model_module": "@jupyter-widgets/controls",
            "_model_module_version": "1.5.0",
            "_model_name": "ProgressStyleModel",
            "_view_count": null,
            "_view_module": "@jupyter-widgets/base",
            "_view_module_version": "1.2.0",
            "_view_name": "StyleView",
            "bar_color": null,
            "description_width": ""
          }
        },
        "8f37392b928a43c5a6d623f2aa89838c": {
          "model_module": "@jupyter-widgets/base",
          "model_name": "LayoutModel",
          "model_module_version": "1.2.0",
          "state": {
            "_model_module": "@jupyter-widgets/base",
            "_model_module_version": "1.2.0",
            "_model_name": "LayoutModel",
            "_view_count": null,
            "_view_module": "@jupyter-widgets/base",
            "_view_module_version": "1.2.0",
            "_view_name": "LayoutView",
            "align_content": null,
            "align_items": null,
            "align_self": null,
            "border": null,
            "bottom": null,
            "display": null,
            "flex": null,
            "flex_flow": null,
            "grid_area": null,
            "grid_auto_columns": null,
            "grid_auto_flow": null,
            "grid_auto_rows": null,
            "grid_column": null,
            "grid_gap": null,
            "grid_row": null,
            "grid_template_areas": null,
            "grid_template_columns": null,
            "grid_template_rows": null,
            "height": null,
            "justify_content": null,
            "justify_items": null,
            "left": null,
            "margin": null,
            "max_height": null,
            "max_width": null,
            "min_height": null,
            "min_width": null,
            "object_fit": null,
            "object_position": null,
            "order": null,
            "overflow": null,
            "overflow_x": null,
            "overflow_y": null,
            "padding": null,
            "right": null,
            "top": null,
            "visibility": null,
            "width": null
          }
        },
        "c4443dc8934f42a3aa3c77ac32af470e": {
          "model_module": "@jupyter-widgets/controls",
          "model_name": "DescriptionStyleModel",
          "model_module_version": "1.5.0",
          "state": {
            "_model_module": "@jupyter-widgets/controls",
            "_model_module_version": "1.5.0",
            "_model_name": "DescriptionStyleModel",
            "_view_count": null,
            "_view_module": "@jupyter-widgets/base",
            "_view_module_version": "1.2.0",
            "_view_name": "StyleView",
            "description_width": ""
          }
        }
      }
    }
  },
  "cells": [
    {
      "cell_type": "markdown",
      "source": [
        "***Importing Libraries***"
      ],
      "metadata": {
        "id": "CJLLBiR5b6RW"
      }
    },
    {
      "cell_type": "code",
      "execution_count": null,
      "metadata": {
        "id": "bO-Ej5P7bfxA",
        "colab": {
          "base_uri": "https://localhost:8080/"
        },
        "outputId": "8e43f286-b187-4e53-a188-bb2660cd57d9"
      },
      "outputs": [
        {
          "output_type": "stream",
          "name": "stdout",
          "text": [
            "Mounted at /gdrive\n"
          ]
        }
      ],
      "source": [
        "import numpy as np\n",
        "from glob import glob\n",
        "from google.colab import drive\n",
        "drive.mount('/gdrive')"
      ]
    },
    {
      "cell_type": "code",
      "source": [
        "import cv2                \n",
        "import matplotlib.pyplot as plt                        \n",
        "%matplotlib inline"
      ],
      "metadata": {
        "id": "D-kanDk2eKgi"
      },
      "execution_count": null,
      "outputs": []
    },
    {
      "cell_type": "code",
      "source": [
        "human_files = np.array(glob(\"/gdrive/My Drive/Deep Learning Project/lfw/*/*\"))\n",
        "dog_files = np.array(glob(\"/gdrive/My Drive/Deep Learning Project/dogImages/*/*/*\"))"
      ],
      "metadata": {
        "id": "UjUIFjyzcs7v"
      },
      "execution_count": null,
      "outputs": []
    },
    {
      "cell_type": "code",
      "source": [
        "print('There are %d total human images.' % len(human_files))\n",
        "print('There are %d total dog images.' % len(dog_files))"
      ],
      "metadata": {
        "colab": {
          "base_uri": "https://localhost:8080/"
        },
        "id": "uk1O8niYdOLn",
        "outputId": "5bd21b37-6345-4462-929e-4ae4db09bcbb"
      },
      "execution_count": null,
      "outputs": [
        {
          "output_type": "stream",
          "name": "stdout",
          "text": [
            "There are 13233 total human images.\n",
            "There are 8356 total dog images.\n"
          ]
        }
      ]
    },
    {
      "cell_type": "code",
      "source": [
        "face_cascade = cv2.CascadeClassifier('/gdrive/My Drive/Deep Learning Project/haarcascade_frontalface_alt.xml')\n"
      ],
      "metadata": {
        "id": "8jLlTz4feG07"
      },
      "execution_count": null,
      "outputs": []
    },
    {
      "cell_type": "code",
      "source": [
        "img = cv2.imread(human_files[0])\n",
        "gray = cv2.cvtColor(img, cv2.COLOR_BGR2GRAY)\n",
        "faces = face_cascade.detectMultiScale(gray)\n",
        "print('Number of faces detected:', len(faces))\n",
        "for (x,y,w,h) in faces:\n",
        "    cv2.rectangle(img,(x,y),(x+w,y+h),(255,0,0),2)\n",
        "    \n",
        "cv_rgb = cv2.cvtColor(img, cv2.COLOR_BGR2RGB)\n",
        "plt.imshow(cv_rgb)\n",
        "plt.show()"
      ],
      "metadata": {
        "colab": {
          "base_uri": "https://localhost:8080/",
          "height": 286
        },
        "id": "mwtdsX84ecBX",
        "outputId": "9f7268b6-bd0d-48d1-eea8-e246f9b22b7a"
      },
      "execution_count": null,
      "outputs": [
        {
          "output_type": "stream",
          "name": "stdout",
          "text": [
            "Number of faces detected: 1\n"
          ]
        },
        {
          "output_type": "display_data",
          "data": {
            "text/plain": [
              "<Figure size 432x288 with 1 Axes>"
            ],
            "image/png": "[encoded data removed]"
          },
          "metadata": {
            "needs_background": "light"
          }
        }
      ]
    },
    {
      "cell_type": "code",
      "source": [
        "def face_detector(img_path):\n",
        "    img = cv2.imread(img_path)\n",
        "    gray = cv2.cvtColor(img, cv2.COLOR_BGR2GRAY)\n",
        "    faces = face_cascade.detectMultiScale(gray)\n",
        "    return len(faces) > 0"
      ],
      "metadata": {
        "id": "xx-bRz54ewUL"
      },
      "execution_count": null,
      "outputs": []
    },
    {
      "cell_type": "markdown",
      "source": [
        "### Assess the Human Face Detector"
      ],
      "metadata": {
        "id": "qa_u_nlHe42u"
      }
    },
    {
      "cell_type": "code",
      "source": [
        "from tqdm import tqdm\n",
        "\n",
        "human_files_short = human_files[:100]\n",
        "dog_files_short = dog_files[:100]"
      ],
      "metadata": {
        "id": "GSlcv5e3ez_r"
      },
      "execution_count": null,
      "outputs": []
    },
    {
      "cell_type": "code",
      "source": [
        "def percentageOfDetectingFaces(detector, img_paths):\n",
        "    count = 0\n",
        "    for img_path in img_paths:\n",
        "        if detector(img_path):\n",
        "            count += 1\n",
        "    return count / len(img_paths) * 100\n",
        "\n",
        "print(\"The percentage of the human images that include a detected, human face: {}%.\".format(percentageOfDetectingFaces(face_detector, human_files_short)))\n",
        "print(\"The percentage of the dog images that include a detected, human face: {}%.\".format(percentageOfDetectingFaces(face_detector, dog_files_short)))"
      ],
      "metadata": {
        "colab": {
          "base_uri": "https://localhost:8080/"
        },
        "id": "BlUtNMxte-7B",
        "outputId": "7e5ff664-b148-41bf-c01f-4d49a34f22b9"
      },
      "execution_count": null,
      "outputs": [
        {
          "output_type": "stream",
          "name": "stdout",
          "text": [
            "The percentage of the human images that include a detected, human face: 99.0%.\n",
            "The percentage of the dog images that include a detected, human face: 6.0%.\n"
          ]
        }
      ]
    },
    {
      "cell_type": "markdown",
      "source": [
        "### Detecting Dogs"
      ],
      "metadata": {
        "id": "k3DGRfyXgAAA"
      }
    },
    {
      "cell_type": "code",
      "source": [
        "import torch\n",
        "import torchvision.models as models\n",
        "\n",
        "VGG16 = models.vgg16(pretrained=True)\n",
        "use_cuda = torch.cuda.is_available()\n",
        "if use_cuda:\n",
        "    VGG16 = VGG16.cuda()"
      ],
      "metadata": {
        "colab": {
          "base_uri": "https://localhost:8080/",
          "height": 156,
          "referenced_widgets": [
            "35e2227544b94f7d8ebe00855b7a9924",
            "a36f24dc4de9422094fd4eefb2e26f46",
            "45fb230b3f7f436aa31d5c71b1c00834",
            "fec29caf7e1244c89ac89f51db398600",
            "c02d3cb9f93b4fae800d604dda6188d7",
            "9ab9854936cc4836a55a3722d86dc851",
            "f42b06cd6c3f4aaa9acca8157c601108",
            "1e43afb4cf2b41fa8aa8435e3e65b742",
            "dc2592befe624a09a110fe2c5ab4525a",
            "8f37392b928a43c5a6d623f2aa89838c",
            "c4443dc8934f42a3aa3c77ac32af470e"
          ]
        },
        "id": "iJTrJFdNgEMG",
        "outputId": "1a84d44d-78b0-43fe-9ed6-906d45548805"
      },
      "execution_count": null,
      "outputs": [
        {
          "output_type": "stream",
          "name": "stderr",
          "text": [
            "/usr/local/lib/python3.9/dist-packages/torchvision/models/_utils.py:208: UserWarning: The parameter 'pretrained' is deprecated since 0.13 and may be removed in the future, please use 'weights' instead.\n",
            "  warnings.warn(\n",
            "/usr/local/lib/python3.9/dist-packages/torchvision/models/_utils.py:223: UserWarning: Arguments other than a weight enum or `None` for 'weights' are deprecated since 0.13 and may be removed in the future. The current behavior is equivalent to passing `weights=VGG16_Weights.IMAGENET1K_V1`. You can also use `weights=VGG16_Weights.DEFAULT` to get the most up-to-date weights.\n",
            "  warnings.warn(msg)\n",
            "Downloading: \"https://download.pytorch.org/models/vgg16-397923af.pth\" to /root/.cache/torch/hub/checkpoints/vgg16-397923af.pth\n"
          ]
        },
        {
          "output_type": "display_data",
          "data": {
            "text/plain": [
              "  0%|          | 0.00/528M [00:00<?, ?B/s]"
            ],
            "application/vnd.jupyter.widget-view+json": {
              "version_major": 2,
              "version_minor": 0,
              "model_id": "35e2227544b94f7d8ebe00855b7a9924"
            }
          },
          "metadata": {}
        }
      ]
    },
    {
      "cell_type": "markdown",
      "source": [
        "### Making Predictions with a Pre-trained Model"
      ],
      "metadata": {
        "id": "jSctsye6gTFm"
      }
    },
    {
      "cell_type": "code",
      "source": [
        "from PIL import Image\n",
        "import torchvision.transforms as transforms"
      ],
      "metadata": {
        "id": "BsT9p-fugQWs"
      },
      "execution_count": null,
      "outputs": []
    },
    {
      "cell_type": "code",
      "source": [
        "def VGG16_predict(img_path):\n",
        "  img = Image.open(img_path) \n",
        "  transform = transforms.Compose([transforms.Resize(255),transforms.CenterCrop(224),transforms.ToTensor()]) \n",
        "  img_tensor = transform(img)\n",
        "  img_tensor.unsqueeze_(0)\n",
        "  if use_cuda:\n",
        "    img_tensor = img_tensor.cuda()\n",
        "    prediction = VGG16(img_tensor)\n",
        "  if use_cuda:\n",
        "     prediction = prediction.cpu()\n",
        "     return prediction.data.numpy().argmax()"
      ],
      "metadata": {
        "id": "mkoct_r4gZtb"
      },
      "execution_count": null,
      "outputs": []
    },
    {
      "cell_type": "code",
      "source": [
        "def dog_detector(img_path):\n",
        "    index = VGG16_predict(img_path)\n",
        "    return index >= 151 and index <= 268"
      ],
      "metadata": {
        "id": "zJYFIbe3hl_Y"
      },
      "execution_count": null,
      "outputs": []
    },
    {
      "cell_type": "code",
      "source": [
        "print(\"The percentage of the human images that include a detected, dog face: {}%.\".format(percentageOfDetectingFaces(dog_detector, human_files_short)))\n",
        "print(\"The percentage of the dog images that include a detected, dog face: {}%.\".format(percentageOfDetectingFaces(dog_detector, dog_files_short)))"
      ],
      "metadata": {
        "colab": {
          "base_uri": "https://localhost:8080/"
        },
        "id": "wmJFJ6yBhrRl",
        "outputId": "ef2d71b3-9c4a-453f-e91c-3b5c6f542378"
      },
      "execution_count": null,
      "outputs": [
        {
          "output_type": "stream",
          "name": "stdout",
          "text": [
            "The percentage of the human images that include a detected, dog face: 0.0%.\n",
            "The percentage of the dog images that include a detected, dog face: 96.0%.\n"
          ]
        }
      ]
    },
    {
      "cell_type": "markdown",
      "source": [
        "### Creating a CNN model to classify Dog Breeds"
      ],
      "metadata": {
        "id": "XOycz7Lkhyzn"
      }
    },
    {
      "cell_type": "code",
      "source": [
        "import os\n",
        "from torchvision import datasets\n",
        "data_dir = '/gdrive/My Drive/Deep Learning Project/dogImages'\n",
        "train_dir = os.path.join(data_dir, 'train/')\n",
        "valid_dir = os.path.join(data_dir, 'valid/')\n",
        "test_dir = os.path.join(data_dir, 'test/')\n",
        "\n",
        "data_transform = transforms.Compose([transforms.RandomResizedCrop(224),\n",
        "                                    transforms.RandomHorizontalFlip(), \n",
        "                                    transforms.RandomRotation(10),\n",
        "                                    transforms.ToTensor(),\n",
        "                                    transforms.Normalize((0.5, 0.5, 0.5), (0.5, 0.5, 0.5))])\n",
        "\n",
        "train_data = datasets.ImageFolder(train_dir, transform=data_transform)\n",
        "valid_data = datasets.ImageFolder(valid_dir, transform=data_transform)\n",
        "test_data = datasets.ImageFolder(test_dir, transform=data_transform)\n",
        "\n",
        "print('Num training images: ', len(train_data))\n",
        "print('Num valid images: ', len(valid_data))\n",
        "print('Num test images: ', len(test_data))"
      ],
      "metadata": {
        "colab": {
          "base_uri": "https://localhost:8080/"
        },
        "id": "ZVZwKnTphvvA",
        "outputId": "3a3f4ff6-a7e2-428a-f738-909881ba229f"
      },
      "execution_count": null,
      "outputs": [
        {
          "output_type": "stream",
          "name": "stdout",
          "text": [
            "Num training images:  6685\n",
            "Num valid images:  835\n",
            "Num test images:  836\n"
          ]
        }
      ]
    },
    {
      "cell_type": "code",
      "source": [
        "batch_size = 20\n",
        "num_workers=0\n",
        "\n",
        "train_loader = torch.utils.data.DataLoader(train_data, batch_size=batch_size,num_workers=num_workers, shuffle=True)\n",
        "valid_loader = torch.utils.data.DataLoader(valid_data, batch_size=batch_size,num_workers=num_workers, shuffle=True)\n",
        "test_loader = torch.utils.data.DataLoader(test_data, batch_size=batch_size,num_workers=num_workers, shuffle=True)"
      ],
      "metadata": {
        "id": "gt0Nhk4ciNc3"
      },
      "execution_count": null,
      "outputs": []
    },
    {
      "cell_type": "markdown",
      "source": [
        "### Model Architecture\n"
      ],
      "metadata": {
        "id": "EhyVtQEYidF8"
      }
    },
    {
      "cell_type": "code",
      "source": [
        "import torch.nn as nn\n",
        "import torch.nn.functional as F"
      ],
      "metadata": {
        "id": "MAwn8Yr8iWWE"
      },
      "execution_count": null,
      "outputs": []
    },
    {
      "cell_type": "code",
      "source": [
        "class Net(nn.Module):\n",
        "    \n",
        "    def __init__(self):\n",
        "        super(Net, self).__init__()\n",
        "        self.conv1 = nn.Conv2d(3, 32, 3, padding=1)\n",
        "        self.conv2 = nn.Conv2d(32, 64, 3, padding=1)\n",
        "        self.conv3 = nn.Conv2d(64, 128, 3, padding=1)\n",
        "        self.pool = nn.MaxPool2d(2, 2)\n",
        "        self.fc1 = nn.Linear(128 * 28 * 28, 500)\n",
        "        self.fc2 = nn.Linear(500, 133)\n",
        "        self.dropout = nn.Dropout(0.2)\n",
        "    \n",
        "    def forward(self, x):\n",
        "        x = self.pool(F.relu(self.conv1(x)))\n",
        "        x = self.pool(F.relu(self.conv2(x)))\n",
        "        x = self.pool(F.relu(self.conv3(x)))\n",
        "        x = x.view(-1, 128 * 28 * 28)\n",
        "        x = self.dropout(x)\n",
        "        x = F.relu(self.fc1(x))\n",
        "        x = self.dropout(x)\n",
        "        x = self.fc2(x)\n",
        "        return x\n",
        "\n",
        "model_scratch = Net()\n",
        "print(model_scratch)\n",
        "\n",
        "if use_cuda:\n",
        "    model_scratch.cuda()"
      ],
      "metadata": {
        "colab": {
          "base_uri": "https://localhost:8080/"
        },
        "id": "XknoQe19io77",
        "outputId": "a0e60e1a-b2cf-4c1a-8e95-1a8493d3e7e5"
      },
      "execution_count": null,
      "outputs": [
        {
          "output_type": "stream",
          "name": "stdout",
          "text": [
            "Net(\n",
            "  (conv1): Conv2d(3, 32, kernel_size=(3, 3), stride=(1, 1), padding=(1, 1))\n",
            "  (conv2): Conv2d(32, 64, kernel_size=(3, 3), stride=(1, 1), padding=(1, 1))\n",
            "  (conv3): Conv2d(64, 128, kernel_size=(3, 3), stride=(1, 1), padding=(1, 1))\n",
            "  (pool): MaxPool2d(kernel_size=2, stride=2, padding=0, dilation=1, ceil_mode=False)\n",
            "  (fc1): Linear(in_features=100352, out_features=500, bias=True)\n",
            "  (fc2): Linear(in_features=500, out_features=133, bias=True)\n",
            "  (dropout): Dropout(p=0.2, inplace=False)\n",
            ")\n"
          ]
        }
      ]
    },
    {
      "cell_type": "code",
      "source": [
        "import torch.optim as optim\n",
        "criterion_scratch = nn.CrossEntropyLoss()\n",
        "optimizer_scratch = optim.SGD(model_scratch.parameters(), lr=0.01, momentum=0.9)"
      ],
      "metadata": {
        "id": "6ekzU-TdjA9C"
      },
      "execution_count": null,
      "outputs": []
    },
    {
      "cell_type": "markdown",
      "source": [
        "### Train and Validate the Model\n"
      ],
      "metadata": {
        "id": "3Tt7FBTOjJ1D"
      }
    },
    {
      "cell_type": "code",
      "source": [
        "from PIL import ImageFile\n",
        "ImageFile.LOAD_TRUNCATED_IMAGES = True"
      ],
      "metadata": {
        "id": "bDA0BhZpqILy"
      },
      "execution_count": null,
      "outputs": []
    },
    {
      "cell_type": "code",
      "source": [
        "def train(n_epochs, loaders, model, optimizer, criterion, use_cuda, save_path):\n",
        "    valid_loss_min = np.Inf \n",
        "    for epoch in range(1, n_epochs+1):\n",
        "        train_loss = 0.0\n",
        "        valid_loss = 0.0\n",
        "        model.train()\n",
        "        for batch_idx, (data, target) in enumerate(loaders['train']):\n",
        "            if use_cuda:\n",
        "                data, target = data.cuda(), target.cuda()\n",
        "            optimizer.zero_grad()\n",
        "            output = model(data)\n",
        "            loss = criterion(output, target)\n",
        "            loss.backward()\n",
        "            optimizer.step()\n",
        "            train_loss = train_loss + ((1 / (batch_idx + 1)) * (loss.data - train_loss))\n",
        "\n",
        "\n",
        "        model.eval()\n",
        "        for batch_idx, (data, target) in enumerate(loaders['valid']):\n",
        "          if use_cuda:\n",
        "            data, target = data.cuda(), target.cuda()\n",
        "            output = model(data)\n",
        "            loss = criterion(output, target)\n",
        "            valid_loss = valid_loss + ((1 / (batch_idx + 1)) * (loss.data - valid_loss))\n",
        "        print('Epoch: {} \\tTraining Loss: {:.6f} \\tValidation Loss: {:.6f}'.format(epoch,train_loss,valid_loss))\n",
        "\n",
        "        if valid_loss <= valid_loss_min:\n",
        "          print('Validation loss decreased ({:.6f} --> {:.6f}).  Saving model ...'.format(valid_loss_min, valid_loss))\n",
        "          torch.save(model.state_dict(), save_path)\n",
        "          valid_loss_min = valid_loss\n",
        "    return model\n",
        "\n",
        "loaders_scratch = {\n",
        "    'train': train_loader,\n",
        "    'valid': valid_loader,\n",
        "    'test': test_loader\n",
        "}\n",
        "\n",
        "model_scratch = train(20, loaders_scratch, model_scratch, optimizer_scratch,criterion_scratch, use_cuda, 'model_scratch.pt')\n",
        "model_scratch.load_state_dict(torch.load('model_scratch.pt'))"
      ],
      "metadata": {
        "colab": {
          "base_uri": "https://localhost:8080/"
        },
        "id": "o4_8tNvTqORQ",
        "outputId": "34d4e1a2-14ce-41db-987e-6dc9d92e527a"
      },
      "execution_count": null,
      "outputs": [
        {
          "output_type": "stream",
          "name": "stdout",
          "text": [
            "Epoch: 1 \tTraining Loss: 4.523250 \tValidation Loss: 4.502476\n",
            "Validation loss decreased (inf --> 4.502476).  Saving model ...\n",
            "Epoch: 2 \tTraining Loss: 4.480023 \tValidation Loss: 4.456006\n",
            "Validation loss decreased (4.502476 --> 4.456006).  Saving model ...\n",
            "Epoch: 3 \tTraining Loss: 4.409727 \tValidation Loss: 4.429330\n",
            "Validation loss decreased (4.456006 --> 4.429330).  Saving model ...\n",
            "Epoch: 4 \tTraining Loss: 4.377593 \tValidation Loss: 4.407836\n",
            "Validation loss decreased (4.429330 --> 4.407836).  Saving model ...\n",
            "Epoch: 5 \tTraining Loss: 4.293640 \tValidation Loss: 4.374882\n",
            "Validation loss decreased (4.407836 --> 4.374882).  Saving model ...\n",
            "Epoch: 6 \tTraining Loss: 4.265149 \tValidation Loss: 4.330312\n",
            "Validation loss decreased (4.374882 --> 4.330312).  Saving model ...\n",
            "Epoch: 7 \tTraining Loss: 4.245029 \tValidation Loss: 4.307745\n",
            "Validation loss decreased (4.330312 --> 4.307745).  Saving model ...\n",
            "Epoch: 8 \tTraining Loss: 4.208294 \tValidation Loss: 4.254972\n",
            "Validation loss decreased (4.307745 --> 4.254972).  Saving model ...\n",
            "Epoch: 9 \tTraining Loss: 4.155448 \tValidation Loss: 4.204167\n",
            "Validation loss decreased (4.254972 --> 4.204167).  Saving model ...\n",
            "Epoch: 10 \tTraining Loss: 4.076379 \tValidation Loss: 4.108558\n",
            "Validation loss decreased (4.204167 --> 4.108558).  Saving model ...\n",
            "Epoch: 11 \tTraining Loss: 4.022823 \tValidation Loss: 4.345115\n",
            "Epoch: 12 \tTraining Loss: 4.025367 \tValidation Loss: 4.235569\n",
            "Epoch: 13 \tTraining Loss: 3.968568 \tValidation Loss: 4.029851\n",
            "Validation loss decreased (4.108558 --> 4.029851).  Saving model ...\n",
            "Epoch: 14 \tTraining Loss: 3.929763 \tValidation Loss: 4.170232\n",
            "Epoch: 15 \tTraining Loss: 3.924229 \tValidation Loss: 4.053374\n",
            "Epoch: 16 \tTraining Loss: 3.869070 \tValidation Loss: 4.104824\n",
            "Epoch: 17 \tTraining Loss: 3.820193 \tValidation Loss: 3.991574\n",
            "Validation loss decreased (4.029851 --> 3.991574).  Saving model ...\n",
            "Epoch: 18 \tTraining Loss: 3.775050 \tValidation Loss: 3.968760\n",
            "Validation loss decreased (3.991574 --> 3.968760).  Saving model ...\n",
            "Epoch: 19 \tTraining Loss: 3.763766 \tValidation Loss: 3.905505\n",
            "Validation loss decreased (3.968760 --> 3.905505).  Saving model ...\n",
            "Epoch: 20 \tTraining Loss: 3.732148 \tValidation Loss: 3.907663\n"
          ]
        },
        {
          "output_type": "execute_result",
          "data": {
            "text/plain": [
              "<All keys matched successfully>"
            ]
          },
          "metadata": {},
          "execution_count": 72
        }
      ]
    },
    {
      "cell_type": "markdown",
      "source": [
        "### Testing the model"
      ],
      "metadata": {
        "id": "KE_1t4zw0s2B"
      }
    },
    {
      "cell_type": "code",
      "source": [
        "def test(loaders, model, criterion, use_cuda):\n",
        "  test_loss = 0.\n",
        "  correct = 0.\n",
        "  total = 0.\n",
        "\n",
        "  model.eval()\n",
        "  for batch_idx, (data, target) in enumerate(loaders['test']):\n",
        "    if use_cuda:\n",
        "      data, target = data.cuda(), target.cuda()\n",
        "    output = model(data)\n",
        "    loss = criterion(output, target)\n",
        "    test_loss = test_loss + ((1 / (batch_idx + 1)) * (loss.data - test_loss))\n",
        "    pred = output.data.max(1, keepdim=True)[1]\n",
        "    correct += np.sum(np.squeeze(pred.eq(target.data.view_as(pred))).cpu().numpy())\n",
        "    total += data.size(0)\n",
        "\n",
        "    print('Test Loss: {:.6f}\\n'.format(test_loss))\n",
        "    print('\\nTest Accuracy: %2d%% (%2d/%2d)' % (100. * correct / total, correct, total))\n",
        "\n",
        "test(loaders_scratch, model_scratch, criterion_scratch, use_cuda)"
      ],
      "metadata": {
        "colab": {
          "base_uri": "https://localhost:8080/"
        },
        "id": "2XossUINrmAQ",
        "outputId": "4b3193c0-aeba-4178-d053-c2447c2ba26d"
      },
      "execution_count": null,
      "outputs": [
        {
          "output_type": "stream",
          "name": "stdout",
          "text": [
            "Test Loss: 3.755397\n",
            "\n",
            "\n",
            "Test Accuracy: 20% ( 4/20)\n",
            "Test Loss: 3.948426\n",
            "\n",
            "\n",
            "Test Accuracy: 15% ( 6/40)\n",
            "Test Loss: 4.086033\n",
            "\n",
            "\n",
            "Test Accuracy: 13% ( 8/60)\n",
            "Test Loss: 4.063653\n",
            "\n",
            "\n",
            "Test Accuracy: 13% (11/80)\n",
            "Test Loss: 4.034806\n",
            "\n",
            "\n",
            "Test Accuracy: 11% (11/100)\n",
            "Test Loss: 3.931256\n",
            "\n",
            "\n",
            "Test Accuracy: 12% (15/120)\n",
            "Test Loss: 3.935174\n",
            "\n",
            "\n",
            "Test Accuracy: 14% (20/140)\n",
            "Test Loss: 3.983478\n",
            "\n",
            "\n",
            "Test Accuracy: 13% (22/160)\n",
            "Test Loss: 3.920231\n",
            "\n",
            "\n",
            "Test Accuracy: 13% (25/180)\n",
            "Test Loss: 3.881589\n",
            "\n",
            "\n",
            "Test Accuracy: 15% (30/200)\n",
            "Test Loss: 3.812503\n",
            "\n",
            "\n",
            "Test Accuracy: 14% (32/220)\n",
            "Test Loss: 3.849992\n",
            "\n",
            "\n",
            "Test Accuracy: 13% (33/240)\n",
            "Test Loss: 3.884532\n",
            "\n",
            "\n",
            "Test Accuracy: 13% (35/260)\n",
            "Test Loss: 3.903382\n",
            "\n",
            "\n",
            "Test Accuracy: 12% (36/280)\n",
            "Test Loss: 3.925041\n",
            "\n",
            "\n",
            "Test Accuracy: 12% (38/300)\n",
            "Test Loss: 3.906095\n",
            "\n",
            "\n",
            "Test Accuracy: 12% (39/320)\n",
            "Test Loss: 3.902914\n",
            "\n",
            "\n",
            "Test Accuracy: 12% (42/340)\n",
            "Test Loss: 3.893138\n",
            "\n",
            "\n",
            "Test Accuracy: 11% (43/360)\n",
            "Test Loss: 3.884780\n",
            "\n",
            "\n",
            "Test Accuracy: 11% (43/380)\n",
            "Test Loss: 3.851384\n",
            "\n",
            "\n",
            "Test Accuracy: 11% (46/400)\n",
            "Test Loss: 3.860290\n",
            "\n",
            "\n",
            "Test Accuracy: 11% (50/420)\n",
            "Test Loss: 3.857616\n",
            "\n",
            "\n",
            "Test Accuracy: 12% (53/440)\n",
            "Test Loss: 3.878090\n",
            "\n",
            "\n",
            "Test Accuracy: 11% (53/460)\n",
            "Test Loss: 3.858253\n",
            "\n",
            "\n",
            "Test Accuracy: 11% (57/480)\n",
            "Test Loss: 3.862875\n",
            "\n",
            "\n",
            "Test Accuracy: 11% (59/500)\n",
            "Test Loss: 3.872081\n",
            "\n",
            "\n",
            "Test Accuracy: 11% (60/520)\n",
            "Test Loss: 3.858619\n",
            "\n",
            "\n",
            "Test Accuracy: 11% (63/540)\n",
            "Test Loss: 3.867240\n",
            "\n",
            "\n",
            "Test Accuracy: 11% (65/560)\n",
            "Test Loss: 3.889838\n",
            "\n",
            "\n",
            "Test Accuracy: 11% (66/580)\n",
            "Test Loss: 3.907359\n",
            "\n",
            "\n",
            "Test Accuracy: 11% (66/600)\n",
            "Test Loss: 3.908360\n",
            "\n",
            "\n",
            "Test Accuracy: 10% (68/620)\n",
            "Test Loss: 3.901819\n",
            "\n",
            "\n",
            "Test Accuracy: 10% (68/640)\n",
            "Test Loss: 3.905928\n",
            "\n",
            "\n",
            "Test Accuracy: 10% (70/660)\n",
            "Test Loss: 3.904080\n",
            "\n",
            "\n",
            "Test Accuracy: 10% (74/680)\n",
            "Test Loss: 3.898233\n",
            "\n",
            "\n",
            "Test Accuracy: 10% (76/700)\n",
            "Test Loss: 3.903856\n",
            "\n",
            "\n",
            "Test Accuracy: 10% (78/720)\n",
            "Test Loss: 3.918952\n",
            "\n",
            "\n",
            "Test Accuracy: 10% (79/740)\n",
            "Test Loss: 3.916140\n",
            "\n",
            "\n",
            "Test Accuracy: 10% (83/760)\n",
            "Test Loss: 3.894866\n",
            "\n",
            "\n",
            "Test Accuracy: 11% (91/780)\n",
            "Test Loss: 3.897478\n",
            "\n",
            "\n",
            "Test Accuracy: 11% (95/800)\n",
            "Test Loss: 3.892641\n",
            "\n",
            "\n",
            "Test Accuracy: 12% (99/820)\n",
            "Test Loss: 3.899959\n",
            "\n",
            "\n",
            "Test Accuracy: 12% (101/836)\n"
          ]
        }
      ]
    },
    {
      "cell_type": "code",
      "source": [],
      "metadata": {
        "id": "b1HZy7tv661n"
      },
      "execution_count": null,
      "outputs": []
    },
    {
      "cell_type": "markdown",
      "source": [
        "### Create a CNN to Classify Dog Breeds (using Transfer Learning)"
      ],
      "metadata": {
        "id": "Qt4m2Cju698Q"
      }
    },
    {
      "cell_type": "code",
      "source": [
        "loaders_transfer = loaders_scratch"
      ],
      "metadata": {
        "id": "GVc8CLaq7BAt"
      },
      "execution_count": null,
      "outputs": []
    },
    {
      "cell_type": "code",
      "source": [
        "import torchvision.models as models\n",
        "import torch.nn as nn\n",
        "model_transfer = models.vgg16(pretrained=True)\n",
        "if use_cuda:\n",
        "    model_transfer = model_transfer.cuda()"
      ],
      "metadata": {
        "colab": {
          "base_uri": "https://localhost:8080/"
        },
        "id": "pBUu_nAE7D_U",
        "outputId": "5e37b13b-5c62-4e86-9ed2-533435bc2977"
      },
      "execution_count": null,
      "outputs": [
        {
          "output_type": "stream",
          "name": "stderr",
          "text": [
            "/usr/local/lib/python3.9/dist-packages/torchvision/models/_utils.py:208: UserWarning: The parameter 'pretrained' is deprecated since 0.13 and may be removed in the future, please use 'weights' instead.\n",
            "  warnings.warn(\n",
            "/usr/local/lib/python3.9/dist-packages/torchvision/models/_utils.py:223: UserWarning: Arguments other than a weight enum or `None` for 'weights' are deprecated since 0.13 and may be removed in the future. The current behavior is equivalent to passing `weights=VGG16_Weights.IMAGENET1K_V1`. You can also use `weights=VGG16_Weights.DEFAULT` to get the most up-to-date weights.\n",
            "  warnings.warn(msg)\n"
          ]
        }
      ]
    },
    {
      "cell_type": "code",
      "source": [
        "for param in model_transfer.features.parameters():\n",
        "    param.requires_grad = False"
      ],
      "metadata": {
        "id": "qEDTnrNu7NE6"
      },
      "execution_count": null,
      "outputs": []
    },
    {
      "cell_type": "code",
      "source": [
        "n_inputs = model_transfer.classifier[6].in_features \n",
        "last_layer = nn.Linear(n_inputs, 133) \n",
        "model_transfer.classifier[6] = last_layer\n",
        "\n",
        "if use_cuda:\n",
        "    model_transfer.cuda()\n",
        "    \n",
        "print(model_transfer.classifier[6].out_features)"
      ],
      "metadata": {
        "colab": {
          "base_uri": "https://localhost:8080/"
        },
        "id": "6-zx1i9B7Rdf",
        "outputId": "efddb380-3090-419d-95d8-eed45af8922a"
      },
      "execution_count": null,
      "outputs": [
        {
          "output_type": "stream",
          "name": "stdout",
          "text": [
            "133\n"
          ]
        }
      ]
    },
    {
      "cell_type": "code",
      "source": [],
      "metadata": {
        "id": "hb0ATBvq7WHM"
      },
      "execution_count": null,
      "outputs": []
    },
    {
      "cell_type": "markdown",
      "source": [
        "### Specify Loss Function and Optimizer"
      ],
      "metadata": {
        "id": "xdNnVMt47Yo7"
      }
    },
    {
      "cell_type": "code",
      "source": [
        "criterion_transfer = nn.CrossEntropyLoss()\n",
        "optimizer_transfer = optim.SGD(model_transfer.classifier.parameters(), lr=0.001)"
      ],
      "metadata": {
        "id": "O9YF9t7W7aVi"
      },
      "execution_count": null,
      "outputs": []
    },
    {
      "cell_type": "code",
      "source": [
        "model_transfer = train(70, loaders_transfer, model_transfer, optimizer_transfer, criterion_transfer, use_cuda, 'model_transfer.pt')"
      ],
      "metadata": {
        "colab": {
          "base_uri": "https://localhost:8080/"
        },
        "id": "zmVBKRGX7dee",
        "outputId": "dd2183e1-eb6a-42eb-e59e-9050bcfe9669"
      },
      "execution_count": 96,
      "outputs": [
        {
          "output_type": "stream",
          "name": "stdout",
          "text": [
            "Epoch: 1 \tTraining Loss: 1.061663 \tValidation Loss: 1.079072\n",
            "Validation loss decreased (inf --> 1.079072).  Saving model ...\n",
            "Epoch: 2 \tTraining Loss: 1.052395 \tValidation Loss: 1.096392\n",
            "Epoch: 3 \tTraining Loss: 1.041517 \tValidation Loss: 1.103065\n",
            "Epoch: 4 \tTraining Loss: 1.003871 \tValidation Loss: 1.056589\n",
            "Validation loss decreased (1.079072 --> 1.056589).  Saving model ...\n",
            "Epoch: 5 \tTraining Loss: 1.049895 \tValidation Loss: 1.151498\n",
            "Epoch: 6 \tTraining Loss: 1.022168 \tValidation Loss: 1.092439\n",
            "Epoch: 7 \tTraining Loss: 1.032826 \tValidation Loss: 1.109821\n",
            "Epoch: 8 \tTraining Loss: 0.979773 \tValidation Loss: 0.973304\n",
            "Validation loss decreased (1.056589 --> 0.973304).  Saving model ...\n",
            "Epoch: 9 \tTraining Loss: 0.982706 \tValidation Loss: 1.045481\n",
            "Epoch: 10 \tTraining Loss: 0.982862 \tValidation Loss: 1.164011\n",
            "Epoch: 11 \tTraining Loss: 0.992753 \tValidation Loss: 1.042473\n",
            "Epoch: 12 \tTraining Loss: 1.004962 \tValidation Loss: 1.107947\n",
            "Epoch: 13 \tTraining Loss: 0.966041 \tValidation Loss: 1.109949\n",
            "Epoch: 14 \tTraining Loss: 0.967447 \tValidation Loss: 1.030640\n",
            "Epoch: 15 \tTraining Loss: 0.971912 \tValidation Loss: 1.074776\n",
            "Epoch: 16 \tTraining Loss: 0.968814 \tValidation Loss: 1.065040\n",
            "Epoch: 17 \tTraining Loss: 0.962307 \tValidation Loss: 1.030459\n",
            "Epoch: 18 \tTraining Loss: 0.941217 \tValidation Loss: 1.076393\n",
            "Epoch: 19 \tTraining Loss: 0.975987 \tValidation Loss: 1.089081\n",
            "Epoch: 20 \tTraining Loss: 0.938369 \tValidation Loss: 1.056600\n",
            "Epoch: 21 \tTraining Loss: 0.957774 \tValidation Loss: 1.040519\n",
            "Epoch: 22 \tTraining Loss: 0.954675 \tValidation Loss: 1.028233\n",
            "Epoch: 23 \tTraining Loss: 0.938507 \tValidation Loss: 1.032397\n",
            "Epoch: 24 \tTraining Loss: 0.918859 \tValidation Loss: 0.974918\n",
            "Epoch: 25 \tTraining Loss: 0.926532 \tValidation Loss: 0.958636\n",
            "Validation loss decreased (0.973304 --> 0.958636).  Saving model ...\n",
            "Epoch: 26 \tTraining Loss: 0.925457 \tValidation Loss: 0.997512\n",
            "Epoch: 27 \tTraining Loss: 0.936014 \tValidation Loss: 1.061447\n",
            "Epoch: 28 \tTraining Loss: 0.925016 \tValidation Loss: 1.092689\n",
            "Epoch: 29 \tTraining Loss: 0.905372 \tValidation Loss: 1.020609\n",
            "Epoch: 30 \tTraining Loss: 0.913221 \tValidation Loss: 1.012619\n",
            "Epoch: 31 \tTraining Loss: 0.922025 \tValidation Loss: 1.057638\n",
            "Epoch: 32 \tTraining Loss: 0.923722 \tValidation Loss: 1.031444\n",
            "Epoch: 33 \tTraining Loss: 0.926313 \tValidation Loss: 1.048618\n",
            "Epoch: 34 \tTraining Loss: 0.907914 \tValidation Loss: 0.953929\n",
            "Validation loss decreased (0.958636 --> 0.953929).  Saving model ...\n",
            "Epoch: 35 \tTraining Loss: 0.885949 \tValidation Loss: 1.071397\n",
            "Epoch: 36 \tTraining Loss: 0.896574 \tValidation Loss: 1.003031\n",
            "Epoch: 37 \tTraining Loss: 0.888101 \tValidation Loss: 1.018476\n",
            "Epoch: 38 \tTraining Loss: 0.867953 \tValidation Loss: 1.063164\n",
            "Epoch: 39 \tTraining Loss: 0.897278 \tValidation Loss: 1.017438\n",
            "Epoch: 40 \tTraining Loss: 0.893389 \tValidation Loss: 1.035646\n",
            "Epoch: 41 \tTraining Loss: 0.888155 \tValidation Loss: 1.066030\n",
            "Epoch: 42 \tTraining Loss: 0.863865 \tValidation Loss: 1.031238\n",
            "Epoch: 43 \tTraining Loss: 0.879103 \tValidation Loss: 0.973048\n",
            "Epoch: 44 \tTraining Loss: 0.899738 \tValidation Loss: 1.037750\n",
            "Epoch: 45 \tTraining Loss: 0.877936 \tValidation Loss: 0.986294\n",
            "Epoch: 46 \tTraining Loss: 0.885070 \tValidation Loss: 1.035788\n",
            "Epoch: 47 \tTraining Loss: 0.859353 \tValidation Loss: 1.030031\n",
            "Epoch: 48 \tTraining Loss: 0.856289 \tValidation Loss: 1.100083\n",
            "Epoch: 49 \tTraining Loss: 0.869970 \tValidation Loss: 1.036934\n",
            "Epoch: 50 \tTraining Loss: 0.857673 \tValidation Loss: 1.027860\n",
            "Epoch: 51 \tTraining Loss: 0.855225 \tValidation Loss: 1.067734\n",
            "Epoch: 52 \tTraining Loss: 0.868901 \tValidation Loss: 0.999980\n",
            "Epoch: 53 \tTraining Loss: 0.858789 \tValidation Loss: 0.996002\n",
            "Epoch: 54 \tTraining Loss: 0.855071 \tValidation Loss: 0.988080\n",
            "Epoch: 55 \tTraining Loss: 0.864350 \tValidation Loss: 1.049287\n",
            "Epoch: 56 \tTraining Loss: 0.853575 \tValidation Loss: 1.004370\n",
            "Epoch: 57 \tTraining Loss: 0.856889 \tValidation Loss: 1.035839\n",
            "Epoch: 58 \tTraining Loss: 0.833985 \tValidation Loss: 1.122373\n",
            "Epoch: 59 \tTraining Loss: 0.838402 \tValidation Loss: 0.935115\n",
            "Validation loss decreased (0.953929 --> 0.935115).  Saving model ...\n",
            "Epoch: 60 \tTraining Loss: 0.847746 \tValidation Loss: 1.008500\n",
            "Epoch: 61 \tTraining Loss: 0.851526 \tValidation Loss: 1.041909\n",
            "Epoch: 62 \tTraining Loss: 0.855410 \tValidation Loss: 1.038375\n",
            "Epoch: 63 \tTraining Loss: 0.832286 \tValidation Loss: 0.959153\n",
            "Epoch: 64 \tTraining Loss: 0.845520 \tValidation Loss: 1.019221\n",
            "Epoch: 65 \tTraining Loss: 0.845228 \tValidation Loss: 1.028994\n",
            "Epoch: 66 \tTraining Loss: 0.820393 \tValidation Loss: 0.951348\n",
            "Epoch: 67 \tTraining Loss: 0.850302 \tValidation Loss: 1.047856\n",
            "Epoch: 68 \tTraining Loss: 0.847919 \tValidation Loss: 1.137923\n",
            "Epoch: 69 \tTraining Loss: 0.800425 \tValidation Loss: 0.926258\n",
            "Validation loss decreased (0.935115 --> 0.926258).  Saving model ...\n",
            "Epoch: 70 \tTraining Loss: 0.833051 \tValidation Loss: 1.072672\n"
          ]
        }
      ]
    },
    {
      "cell_type": "code",
      "source": [
        "model_transfer.load_state_dict(torch.load('model_transfer.pt'))"
      ],
      "metadata": {
        "id": "gVGpGs5G8qD9",
        "colab": {
          "base_uri": "https://localhost:8080/"
        },
        "outputId": "c5bf9255-9b23-4482-b26d-58ff6a585414"
      },
      "execution_count": 97,
      "outputs": [
        {
          "output_type": "execute_result",
          "data": {
            "text/plain": [
              "<All keys matched successfully>"
            ]
          },
          "metadata": {},
          "execution_count": 97
        }
      ]
    },
    {
      "cell_type": "code",
      "source": [
        "test(loaders_transfer, model_transfer, criterion_transfer, use_cuda)"
      ],
      "metadata": {
        "id": "nyv5VrrG_3PM",
        "colab": {
          "base_uri": "https://localhost:8080/"
        },
        "outputId": "a44f17ac-cfc3-43c2-dc69-e7e4ad92e5f6"
      },
      "execution_count": 98,
      "outputs": [
        {
          "output_type": "stream",
          "name": "stdout",
          "text": [
            "Test Loss: 0.622022\n",
            "\n",
            "\n",
            "Test Accuracy: 75% (15/20)\n",
            "Test Loss: 0.520054\n",
            "\n",
            "\n",
            "Test Accuracy: 82% (33/40)\n",
            "Test Loss: 0.706022\n",
            "\n",
            "\n",
            "Test Accuracy: 76% (46/60)\n",
            "Test Loss: 0.871942\n",
            "\n",
            "\n",
            "Test Accuracy: 71% (57/80)\n",
            "Test Loss: 0.977058\n",
            "\n",
            "\n",
            "Test Accuracy: 69% (69/100)\n",
            "Test Loss: 0.960605\n",
            "\n",
            "\n",
            "Test Accuracy: 68% (82/120)\n",
            "Test Loss: 0.909440\n",
            "\n",
            "\n",
            "Test Accuracy: 70% (98/140)\n",
            "Test Loss: 0.927935\n",
            "\n",
            "\n",
            "Test Accuracy: 70% (112/160)\n",
            "Test Loss: 1.026666\n",
            "\n",
            "\n",
            "Test Accuracy: 68% (123/180)\n",
            "Test Loss: 0.986233\n",
            "\n",
            "\n",
            "Test Accuracy: 69% (139/200)\n",
            "Test Loss: 0.994919\n",
            "\n",
            "\n",
            "Test Accuracy: 70% (154/220)\n",
            "Test Loss: 0.996374\n",
            "\n",
            "\n",
            "Test Accuracy: 70% (169/240)\n",
            "Test Loss: 1.044842\n",
            "\n",
            "\n",
            "Test Accuracy: 69% (181/260)\n",
            "Test Loss: 1.027730\n",
            "\n",
            "\n",
            "Test Accuracy: 69% (195/280)\n",
            "Test Loss: 1.081152\n",
            "\n",
            "\n",
            "Test Accuracy: 69% (208/300)\n",
            "Test Loss: 1.067432\n",
            "\n",
            "\n",
            "Test Accuracy: 69% (222/320)\n",
            "Test Loss: 1.139810\n",
            "\n",
            "\n",
            "Test Accuracy: 68% (233/340)\n",
            "Test Loss: 1.117585\n",
            "\n",
            "\n",
            "Test Accuracy: 68% (248/360)\n",
            "Test Loss: 1.147611\n",
            "\n",
            "\n",
            "Test Accuracy: 68% (259/380)\n",
            "Test Loss: 1.142941\n",
            "\n",
            "\n",
            "Test Accuracy: 68% (274/400)\n",
            "Test Loss: 1.149426\n",
            "\n",
            "\n",
            "Test Accuracy: 67% (284/420)\n",
            "Test Loss: 1.130308\n",
            "\n",
            "\n",
            "Test Accuracy: 67% (298/440)\n",
            "Test Loss: 1.114427\n",
            "\n",
            "\n",
            "Test Accuracy: 67% (312/460)\n",
            "Test Loss: 1.098141\n",
            "\n",
            "\n",
            "Test Accuracy: 67% (326/480)\n",
            "Test Loss: 1.094163\n",
            "\n",
            "\n",
            "Test Accuracy: 68% (341/500)\n",
            "Test Loss: 1.097225\n",
            "\n",
            "\n",
            "Test Accuracy: 68% (355/520)\n",
            "Test Loss: 1.081710\n",
            "\n",
            "\n",
            "Test Accuracy: 69% (373/540)\n",
            "Test Loss: 1.080681\n",
            "\n",
            "\n",
            "Test Accuracy: 69% (388/560)\n",
            "Test Loss: 1.097658\n",
            "\n",
            "\n",
            "Test Accuracy: 69% (402/580)\n",
            "Test Loss: 1.095979\n",
            "\n",
            "\n",
            "Test Accuracy: 69% (417/600)\n",
            "Test Loss: 1.097704\n",
            "\n",
            "\n",
            "Test Accuracy: 69% (430/620)\n",
            "Test Loss: 1.084734\n",
            "\n",
            "\n",
            "Test Accuracy: 69% (446/640)\n",
            "Test Loss: 1.069495\n",
            "\n",
            "\n",
            "Test Accuracy: 70% (462/660)\n",
            "Test Loss: 1.074026\n",
            "\n",
            "\n",
            "Test Accuracy: 69% (475/680)\n",
            "Test Loss: 1.078546\n",
            "\n",
            "\n",
            "Test Accuracy: 69% (488/700)\n",
            "Test Loss: 1.077240\n",
            "\n",
            "\n",
            "Test Accuracy: 69% (502/720)\n",
            "Test Loss: 1.065524\n",
            "\n",
            "\n",
            "Test Accuracy: 69% (517/740)\n",
            "Test Loss: 1.055506\n",
            "\n",
            "\n",
            "Test Accuracy: 70% (534/760)\n",
            "Test Loss: 1.061073\n",
            "\n",
            "\n",
            "Test Accuracy: 70% (546/780)\n",
            "Test Loss: 1.048364\n",
            "\n",
            "\n",
            "Test Accuracy: 70% (564/800)\n",
            "Test Loss: 1.038123\n",
            "\n",
            "\n",
            "Test Accuracy: 70% (580/820)\n",
            "Test Loss: 1.032493\n",
            "\n",
            "\n",
            "Test Accuracy: 70% (591/836)\n"
          ]
        }
      ]
    },
    {
      "cell_type": "code",
      "source": [
        "#Predict Dog Breed with the Model\n",
        "class_names = [item[4:].replace(\"_\", \" \") for item in train_data.classes]\n",
        "\n",
        "def predict_breed_transfer(img_path):\n",
        "    img = Image.open(img_path)\n",
        "    transform = transforms.Compose([transforms.Resize(255),\n",
        "                                 transforms.CenterCrop(224),\n",
        "                                 transforms.ToTensor()])\n",
        "    \n",
        "    img_tensor = transform(img)\n",
        "    img_tensor.unsqueeze_(0)\n",
        "    \n",
        "    if use_cuda:\n",
        "        img_tensor = img_tensor.cuda()\n",
        "\n",
        "    prediction = model_transfer(img_tensor)\n",
        "    \n",
        "    if use_cuda:\n",
        "        prediction = prediction.cpu()\n",
        "    \n",
        "    return prediction.data.numpy().argmax()"
      ],
      "metadata": {
        "id": "TNvMWR0pAZkL"
      },
      "execution_count": 99,
      "outputs": []
    },
    {
      "cell_type": "code",
      "source": [
        "def detect(img_path):\n",
        "    ## handle cases for a human face, dog, and neither\n",
        "    face_detectd = face_detector(img_path)\n",
        "    dog_detected = dog_detector(img_path)\n",
        "    pred = predict_breed_transfer(img_path)\n",
        "\n",
        "    if dog_detected and not face_detectd:\n",
        "        title = \"Hello, dog\\nYour predicted breed is...\\n{}!\".format(class_names[pred])\n",
        "    elif not dog_detected and face_detectd:\n",
        "        title = \"Hello, human\\nYou look like a {}!\".format(class_names[pred])\n",
        "    elif dog_detected and face_detectd:\n",
        "        title = \"Hello human, that's a nice {} you've got there!\".format(class_names[pred])  \n",
        "    else:\n",
        "        title = \"I can't find any dogs or humans here...\"\n",
        "\n",
        "    img = cv2.cvtColor(cv2.imread(img_path), cv2.COLOR_BGR2RGB)\n",
        "    plt.imshow(img)\n",
        "    plt.gca().set_title(title)\n",
        "    plt.show()"
      ],
      "metadata": {
        "id": "iOAuJ9WuH4ft"
      },
      "execution_count": 105,
      "outputs": []
    },
    {
      "cell_type": "code",
      "source": [
        "for file in np.array(glob(\"/gdrive/My Drive/Deep Learning Project/photos/*\")):\n",
        "    detect(file)"
      ],
      "metadata": {
        "colab": {
          "base_uri": "https://localhost:8080/",
          "height": 183
        },
        "id": "CEmQy58GIArU",
        "outputId": "208254e2-536f-42a7-e926-d86641f68d36"
      },
      "execution_count": 1,
      "outputs": [
        {
          "output_type": "error",
          "ename": "NameError",
          "evalue": "ignored",
          "traceback": [
            "\u001b[0;31m---------------------------------------------------------------------------\u001b[0m",
            "\u001b[0;31mNameError\u001b[0m                                 Traceback (most recent call last)",
            "\u001b[0;32m<ipython-input-1-413f900ffa71>\u001b[0m in \u001b[0;36m<module>\u001b[0;34m\u001b[0m\n\u001b[0;32m----> 1\u001b[0;31m \u001b[0;32mfor\u001b[0m \u001b[0mfile\u001b[0m \u001b[0;32min\u001b[0m \u001b[0mnp\u001b[0m\u001b[0;34m.\u001b[0m\u001b[0marray\u001b[0m\u001b[0;34m(\u001b[0m\u001b[0mglob\u001b[0m\u001b[0;34m(\u001b[0m\u001b[0;34m\"/gdrive/My Drive/Deep Learning Project/photos/*\"\u001b[0m\u001b[0;34m)\u001b[0m\u001b[0;34m)\u001b[0m\u001b[0;34m:\u001b[0m\u001b[0;34m\u001b[0m\u001b[0;34m\u001b[0m\u001b[0m\n\u001b[0m\u001b[1;32m      2\u001b[0m     \u001b[0mdetect\u001b[0m\u001b[0;34m(\u001b[0m\u001b[0mfile\u001b[0m\u001b[0;34m)\u001b[0m\u001b[0;34m\u001b[0m\u001b[0;34m\u001b[0m\u001b[0m\n",
            "\u001b[0;31mNameError\u001b[0m: name 'np' is not defined"
          ]
        }
      ]
    }
  ]
}